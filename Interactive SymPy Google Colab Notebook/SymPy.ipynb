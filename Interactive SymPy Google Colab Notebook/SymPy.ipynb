{
  "nbformat": 4,
  "nbformat_minor": 0,
  "metadata": {
    "colab": {
      "provenance": []
    },
    "kernelspec": {
      "name": "python3",
      "display_name": "Python 3"
    },
    "language_info": {
      "name": "python"
    }
  },
  "cells": [
    {
      "cell_type": "markdown",
      "source": [
        "# **Welcome to new chapter of learning! Keep going :)**"
      ],
      "metadata": {
        "id": "mXexG506pyRD"
      }
    },
    {
      "cell_type": "markdown",
      "source": [
        "# **SymPy Library**\n",
        "\n",
        "*   A powerful tool for symbolic computation\n",
        "*   Essential for mathematical modeling, algebraic manipulations, calculus, and more\n",
        "*  Explore mathematical concepts interactively, visualize results, and experiment with different approaches in real-time\n",
        "\n",
        "\n",
        "This tutorial provides a series of structured exercises and demonstrations,\n",
        " through which users will gain hands-on experience with SymPy's features\n",
        "\n",
        "Official Documentation: https://docs.sympy.org/latest/\n"
      ],
      "metadata": {
        "id": "b7KCQCwmqCxr"
      }
    },
    {
      "cell_type": "markdown",
      "source": [
        "# **Installation Guide**\n"
      ],
      "metadata": {
        "id": "62dixxjPsCYn"
      }
    },
    {
      "cell_type": "code",
      "execution_count": null,
      "metadata": {
        "colab": {
          "base_uri": "https://localhost:8080/"
        },
        "id": "5VuXbsr6pqFy",
        "outputId": "0848948a-dfa7-4e5d-940a-3ee6607a1048"
      },
      "outputs": [
        {
          "output_type": "stream",
          "name": "stdout",
          "text": [
            "Requirement already satisfied: sympy in /usr/local/lib/python3.10/dist-packages (1.13.3)\n",
            "Requirement already satisfied: mpmath<1.4,>=1.1.0 in /usr/local/lib/python3.10/dist-packages (from sympy) (1.3.0)\n",
            "Requirement already satisfied: matplotlib in /usr/local/lib/python3.10/dist-packages (3.7.1)\n",
            "Requirement already satisfied: contourpy>=1.0.1 in /usr/local/lib/python3.10/dist-packages (from matplotlib) (1.3.0)\n",
            "Requirement already satisfied: cycler>=0.10 in /usr/local/lib/python3.10/dist-packages (from matplotlib) (0.12.1)\n",
            "Requirement already satisfied: fonttools>=4.22.0 in /usr/local/lib/python3.10/dist-packages (from matplotlib) (4.54.1)\n",
            "Requirement already satisfied: kiwisolver>=1.0.1 in /usr/local/lib/python3.10/dist-packages (from matplotlib) (1.4.7)\n",
            "Requirement already satisfied: numpy>=1.20 in /usr/local/lib/python3.10/dist-packages (from matplotlib) (1.26.4)\n",
            "Requirement already satisfied: packaging>=20.0 in /usr/local/lib/python3.10/dist-packages (from matplotlib) (24.1)\n",
            "Requirement already satisfied: pillow>=6.2.0 in /usr/local/lib/python3.10/dist-packages (from matplotlib) (10.4.0)\n",
            "Requirement already satisfied: pyparsing>=2.3.1 in /usr/local/lib/python3.10/dist-packages (from matplotlib) (3.1.4)\n",
            "Requirement already satisfied: python-dateutil>=2.7 in /usr/local/lib/python3.10/dist-packages (from matplotlib) (2.8.2)\n",
            "Requirement already satisfied: six>=1.5 in /usr/local/lib/python3.10/dist-packages (from python-dateutil>=2.7->matplotlib) (1.16.0)\n",
            "Requirement already satisfied: numpy in /usr/local/lib/python3.10/dist-packages (1.26.4)\n",
            "Requirement already satisfied: scipy in /usr/local/lib/python3.10/dist-packages (1.13.1)\n",
            "Requirement already satisfied: numpy<2.3,>=1.22.4 in /usr/local/lib/python3.10/dist-packages (from scipy) (1.26.4)\n"
          ]
        }
      ],
      "source": [
        "# Install below libraries\n",
        "\n",
        "!pip install sympy\n",
        "!pip install matplotlib\n",
        "!pip install numpy\n",
        "!pip install scipy"
      ]
    },
    {
      "cell_type": "markdown",
      "source": [
        "# Verify Installation"
      ],
      "metadata": {
        "id": "zhKWkulFulX4"
      }
    },
    {
      "cell_type": "code",
      "source": [
        "# Verify Installation by importing all the lirbarires\n",
        "\n",
        "import sympy\n",
        "import matplotlib.pyplot as plt\n",
        "import numpy as np\n",
        "import scipy"
      ],
      "metadata": {
        "id": "4ZNMPboxtboI"
      },
      "execution_count": null,
      "outputs": []
    },
    {
      "cell_type": "markdown",
      "source": [
        "Great! The installation is complete.\n",
        "\n",
        "Let's start learning by experimenting :)"
      ],
      "metadata": {
        "id": "gRqwwDXAu0ZD"
      }
    },
    {
      "cell_type": "code",
      "source": [
        "# Let's simplify the learning by creating few symbols and expressions\n",
        "\n",
        "import sympy as sp\n",
        "\n",
        "# to print the expressions in a visually feasible way\n",
        "sp.init_printing()\n",
        "\n",
        "# Create symbolic variables\n",
        "x, y, Y = sp.symbols('x y Y')\n",
        "\n",
        "## Try it out\n",
        "exp = x**2 - 2*x + 1\n",
        "sp_exp = sp.sympify(exp)\n",
        "\n",
        "sp_exp\n"
      ],
      "metadata": {
        "colab": {
          "base_uri": "https://localhost:8080/",
          "height": 38
        },
        "id": "OwDRL2qZuwjF",
        "outputId": "82b28d67-f381-4cb1-d588-9819b5b09638"
      },
      "execution_count": null,
      "outputs": [
        {
          "output_type": "execute_result",
          "data": {
            "text/plain": [
              " 2          \n",
              "x  - 2⋅x + 1"
            ],
            "text/latex": "$\\displaystyle x^{2} - 2 x + 1$"
          },
          "metadata": {},
          "execution_count": 9
        }
      ]
    },
    {
      "cell_type": "markdown",
      "source": [
        "# **Solving**\n",
        "\n",
        "let's start by solving simnpler algebraic expressions"
      ],
      "metadata": {
        "id": "37PgFUoi5IlR"
      }
    },
    {
      "cell_type": "markdown",
      "source": [
        "**Solve()**"
      ],
      "metadata": {
        "id": "-SP7AoAQoW0I"
      }
    },
    {
      "cell_type": "markdown",
      "source": [
        "solve() is an older more mature general function for solving many types of equations. solve() has many options and uses different methods internally to determine what type of equations you pass it, so if you know what type of equation you are dealing with you may want to use the newer solveset() which solves univariate equations, linsolve() which solves system of linear equations, and nonlinsolve() which solves systems of non linear equations."
      ],
      "metadata": {
        "id": "U5CTulFNoUUg"
      }
    },
    {
      "cell_type": "code",
      "source": [
        "# `.solve` method can solve algebraic equations symbolically\n",
        "## Try it out\n",
        "\n",
        "test_equation = sp.Eq(x**2 - 2*x + 1, 0)\n",
        "solutions = sp.solve(test_equation, x)\n",
        "solutions\n"
      ],
      "metadata": {
        "colab": {
          "base_uri": "https://localhost:8080/",
          "height": 37
        },
        "id": "eXusTCD75RxU",
        "outputId": "569ab8b2-cd87-4a47-c48c-306ef4b1dce7"
      },
      "execution_count": null,
      "outputs": [
        {
          "output_type": "execute_result",
          "data": {
            "text/plain": [
              "[1]"
            ],
            "text/latex": "$\\displaystyle \\left[ 1\\right]$"
          },
          "metadata": {},
          "execution_count": 7
        }
      ]
    },
    {
      "cell_type": "markdown",
      "source": [
        "**Exercise**\n",
        "\n",
        "Type `value` for `x` to solve the expression and verify by clicking `run` button"
      ],
      "metadata": {
        "id": "a4d-nnXSAVt4"
      }
    },
    {
      "cell_type": "code",
      "source": [
        "input = int(input(\"Type `value` for `x` to solve the expression and verify by clicking `run` button: \"))\n",
        "\n",
        "# Equation for testing exercise\n",
        "exercise_equation = sp.Eq(x**2 - 2*x + 1, input)\n",
        "\n",
        "solutions = sp.solve(exercise_equation, x)\n",
        "solutions\n",
        "\n",
        "# Print the result\n",
        "print(solutions)\n",
        "\n",
        "# To clear the memory of input for each iteration\n",
        "del input"
      ],
      "metadata": {
        "colab": {
          "base_uri": "https://localhost:8080/"
        },
        "id": "3rZCZKy9BMxL",
        "outputId": "27ded1d2-93b2-4fe3-ec52-cdd4ab2ecfc3"
      },
      "execution_count": null,
      "outputs": [
        {
          "output_type": "stream",
          "name": "stdout",
          "text": [
            "Type `value` for `x` to solve the expression and verify by clicking `run` button: 3\n",
            "[1 - sqrt(3), 1 + sqrt(3)]\n"
          ]
        }
      ]
    },
    {
      "cell_type": "code",
      "source": [
        "input_values = input(\"Type `value` for `x, y` as comma-separated to solve the expression and verify by clicking `run` button: \")\n",
        "input_x, input_y = map(int, input_values.split(','))\n",
        "\n",
        "# Substitute these values into the symbolic expression and solve for C\n",
        "exercise_equation = x**2 - 2*x*y + y**2\n",
        "\n",
        "# Substitute x and y values\n",
        "exercise_value = exercise_equation.subs({x: input_x, y: input_y})\n",
        "\n",
        "# Print the computed result for this expression\n",
        "print(f\"The result of the expression for x = {input_x} and y = {input_y} is: {exercise_value}\")"
      ],
      "metadata": {
        "colab": {
          "base_uri": "https://localhost:8080/"
        },
        "id": "7dETY2N9HaKM",
        "outputId": "32f86317-b2a9-430c-f95a-3d782ae2a819"
      },
      "execution_count": null,
      "outputs": [
        {
          "output_type": "stream",
          "name": "stdout",
          "text": [
            "Type `value` for `x, y` as comma-separated to solve the expression and verify by clicking `run` button: 2,3\n",
            "The result of the expression for x = 2 and y = 3 is: 1\n"
          ]
        }
      ]
    },
    {
      "cell_type": "code",
      "source": [
        "missing_attr = input(\"Type the missing `attribute` to solve the expression and verify by clicking `run` button: \")\n",
        "\n",
        "# Equation for testing exercise\n",
        "exercise_equation = sp.Eq(x**2 - 2*x + 1, 1)\n",
        "\n",
        "solutions = sp.solve(exercise_equation, missing_attr)\n",
        "solutions\n",
        "\n",
        "# Print the result\n",
        "print(solutions)\n",
        "\n",
        "# To clear the memory of input for each iteration\n",
        "del missing_attr"
      ],
      "metadata": {
        "id": "Cytg3nkaO8uO"
      },
      "execution_count": null,
      "outputs": []
    },
    {
      "cell_type": "markdown",
      "source": [
        "Because of SymPy’s use of the principle root, some solutions to radical equations will be missed unless check=False"
      ],
      "metadata": {
        "id": "UECrBaLoKHgq"
      }
    },
    {
      "cell_type": "code",
      "source": [
        "from sympy import root\n",
        "eq = root(x**3 - 3*x**2, 3) + 1 - x\n",
        "\n",
        "print(\"Without check\", sp.solve(eq))\n",
        "print(\"With check\", sp.solve(eq, check=False))\n"
      ],
      "metadata": {
        "colab": {
          "base_uri": "https://localhost:8080/"
        },
        "id": "6DmOnoV1JbNg",
        "outputId": "60d7eb02-5c3d-49d5-e5c9-e44a30a925fa"
      },
      "execution_count": null,
      "outputs": [
        {
          "output_type": "stream",
          "name": "stdout",
          "text": [
            "Without check []\n",
            "With check [1/3]\n"
          ]
        }
      ]
    },
    {
      "cell_type": "markdown",
      "source": [
        "# **Basic Operations**"
      ],
      "metadata": {
        "id": "HjhUf2Iw7RPy"
      }
    },
    {
      "cell_type": "markdown",
      "source": [
        "**Substitution**\n",
        "\n",
        "Substitution replaces all instances of something in an expression with something else"
      ],
      "metadata": {
        "id": "bnGPPGYb-K78"
      }
    },
    {
      "cell_type": "code",
      "source": [
        "expr = x + 1\n",
        "input = int(input(\"Type `value` for `x` to substitute in  the expression and verify by clicking `run` button: \"))\n",
        "expr.subs(x, input)"
      ],
      "metadata": {
        "colab": {
          "base_uri": "https://localhost:8080/",
          "height": 55
        },
        "id": "robR5wfD-Obe",
        "outputId": "ecab0ac5-d961-4dc5-d068-79d70c78b11b"
      },
      "execution_count": null,
      "outputs": [
        {
          "name": "stdout",
          "output_type": "stream",
          "text": [
            "Type `value` for `x` to substitute in  the expression and verify by clicking `run` button: 2\n"
          ]
        },
        {
          "output_type": "execute_result",
          "data": {
            "text/plain": [
              "3"
            ],
            "text/latex": "$\\displaystyle 3$"
          },
          "metadata": {},
          "execution_count": 12
        }
      ]
    },
    {
      "cell_type": "markdown",
      "source": [
        "Run below line to clear the earlier input for smooth computation"
      ],
      "metadata": {
        "id": "yNKb85usgwx4"
      }
    },
    {
      "cell_type": "code",
      "source": [
        "del input"
      ],
      "metadata": {
        "id": "NeH0X_kZgaTg"
      },
      "execution_count": null,
      "outputs": []
    },
    {
      "cell_type": "code",
      "source": [
        "from sympy import sin, cos\n",
        "\n",
        "expr = sin(x) + cos(y)\n",
        "input_values = input(\"Type `value` for `x, y` as comma-separated to substitute in the expression and verify by clicking `run` button: \")\n",
        "input_x, input_y = map(int, input_values.split(','))\n",
        "expr.subs({x: input_x, y: input_y})\n"
      ],
      "metadata": {
        "id": "ePZSYovOhZ1l"
      },
      "execution_count": null,
      "outputs": []
    },
    {
      "cell_type": "code",
      "source": [
        "del input_values"
      ],
      "metadata": {
        "id": "Tn3V89Kxh65d"
      },
      "execution_count": null,
      "outputs": []
    },
    {
      "cell_type": "markdown",
      "source": [
        "**Evaluate**\n",
        "\n",
        "To evaluate a numerical expression into a floating point numbe"
      ],
      "metadata": {
        "id": "WTUq4YfbfLiF"
      }
    },
    {
      "cell_type": "code",
      "source": [
        "from sympy import sqrt\n",
        "\n",
        "expr = sqrt(8)\n",
        "expr.evalf(3)\n",
        "\n",
        "# For the computation `3` represents the number of floating decimal points to be calculated till\n",
        "\n",
        "input = int(input(\"Type `value` for evalf to evaluate the expression and verify by clicking `run` button: \"))\n",
        "expr.evalf(input)\n",
        "\n"
      ],
      "metadata": {
        "id": "ZTROukXne3Sb"
      },
      "execution_count": null,
      "outputs": []
    },
    {
      "cell_type": "markdown",
      "source": [
        "Run below line to clear the earlier input for smooth computation"
      ],
      "metadata": {
        "id": "Vd5EKFlqgjrY"
      }
    },
    {
      "cell_type": "code",
      "source": [
        "del input"
      ],
      "metadata": {
        "id": "pMHlsXqqgh3Y"
      },
      "execution_count": null,
      "outputs": []
    },
    {
      "cell_type": "markdown",
      "source": [
        "**lambdify**\n",
        "\n",
        "`subs` and `evalf` are good if you want to do simple evaluation, but if you intend to evaluate an expression at many points, there are more efficient ways."
      ],
      "metadata": {
        "id": "8qteQ2a5mZX-"
      }
    },
    {
      "cell_type": "code",
      "source": [
        "from sympy import lambdify\n",
        "import numpy\n",
        "a = numpy.arange(10)\n",
        "expr = x + 2\n",
        "\n",
        "fun = lambdify(x, expr, \"numpy\")\n",
        "fun(a)"
      ],
      "metadata": {
        "colab": {
          "base_uri": "https://localhost:8080/"
        },
        "id": "kCrlhvnBgy3z",
        "outputId": "9930380f-91d4-4a8a-a1a6-bfd23b96f5d3"
      },
      "execution_count": null,
      "outputs": [
        {
          "output_type": "execute_result",
          "data": {
            "text/plain": [
              "array([ 2,  3,  4,  5,  6,  7,  8,  9, 10, 11])"
            ]
          },
          "metadata": {},
          "execution_count": 15
        }
      ]
    },
    {
      "cell_type": "code",
      "source": [
        "expr = x + 2\n",
        "input_val = int(input(\"Type `value` for `x` to lambdify the expression and verify by clicking `run` button: \"))\n",
        "fun = lambdify(x, expr, \"numpy\")\n",
        "fun(input_val)"
      ],
      "metadata": {
        "id": "pXbv4jAN2z74"
      },
      "execution_count": null,
      "outputs": []
    },
    {
      "cell_type": "markdown",
      "source": [
        "# **Solving Relationships**\n",
        "\n",
        "When one or more expressions passed to solve is a relational, a relational result is returned"
      ],
      "metadata": {
        "id": "d25RKkoZDwC1"
      }
    },
    {
      "cell_type": "code",
      "source": [
        "# It provides result set for each possibility range of x\n",
        "sp.solve(x<3)\n",
        "sp.solve(x**2 > 4)"
      ],
      "metadata": {
        "id": "T2VbsChvDuTF"
      },
      "execution_count": null,
      "outputs": []
    },
    {
      "cell_type": "code",
      "source": [
        "# −∞ & ∞ are not real values, we can see the possible real possibility set by attribute `real`\n",
        "from sympy import Symbol\n",
        "r = Symbol('r', real=True)\n",
        "sp.solve(r**2 > 6)"
      ],
      "metadata": {
        "id": "BaNjAwSoFxYf"
      },
      "execution_count": null,
      "outputs": []
    },
    {
      "cell_type": "markdown",
      "source": [
        "If each relationship contains only one symbol of interest, the expressions can be processed for multiple symbols:"
      ],
      "metadata": {
        "id": "R0FFcsp8I4tJ"
      }
    },
    {
      "cell_type": "code",
      "source": [
        "sympy.solvers.inequalities.reduce_inequalities([0 <= x  - 1, y < 3], [x, y])"
      ],
      "metadata": {
        "id": "SxlCf3Q8GOlL"
      },
      "execution_count": null,
      "outputs": []
    },
    {
      "cell_type": "markdown",
      "source": [
        "But an ***error*** is raised if any relationship has more than one symbol of interest"
      ],
      "metadata": {
        "id": "IKNc8UvSJC6H"
      }
    },
    {
      "cell_type": "code",
      "source": [
        "sympy.solvers.inequalities.reduce_inequalities([0 <= x*y  - 1, y < 3], [x, y])"
      ],
      "metadata": {
        "id": "R1PVwQ-sJFlb"
      },
      "execution_count": null,
      "outputs": []
    },
    {
      "cell_type": "markdown",
      "source": [
        "## **Matrix**\n",
        "\n",
        "To make a matrix in SymPy, use the Matrix object. A matrix is constructed by providing a list of row vectors that make up the matrix. Unlike any other object, sympy matrices are mutable\n",
        "\n",
        "\n"
      ],
      "metadata": {
        "id": "M9FXNrOoKdP4"
      }
    },
    {
      "cell_type": "code",
      "source": [
        "from sympy import *\n",
        "M = Matrix([[1, -1], [3, 4], [0, 2]])\n",
        "M"
      ],
      "metadata": {
        "colab": {
          "base_uri": "https://localhost:8080/",
          "height": 78
        },
        "id": "g3PMpATIKhr_",
        "outputId": "2438be5f-b175-4b16-d4a3-d2ca759fdd86"
      },
      "execution_count": null,
      "outputs": [
        {
          "output_type": "execute_result",
          "data": {
            "text/plain": [
              "⎡1  -1⎤\n",
              "⎢     ⎥\n",
              "⎢3  4 ⎥\n",
              "⎢     ⎥\n",
              "⎣0  2 ⎦"
            ],
            "text/latex": "$\\displaystyle \\left[\\begin{matrix}1 & -1\\\\3 & 4\\\\0 & 2\\end{matrix}\\right]$"
          },
          "metadata": {},
          "execution_count": 16
        }
      ]
    },
    {
      "cell_type": "markdown",
      "source": [
        "# **Basic Operations**"
      ],
      "metadata": {
        "id": "MjsdOFZ-2Lij"
      }
    },
    {
      "cell_type": "code",
      "source": [
        "# know the shape of a matrix by using shape()\n",
        "\n",
        "print(f'The shape of matrix is {shape(M)}')"
      ],
      "metadata": {
        "colab": {
          "base_uri": "https://localhost:8080/"
        },
        "id": "idyoRSQ02H4t",
        "outputId": "8a6734c1-f62a-4981-a15e-212c48d62416"
      },
      "execution_count": null,
      "outputs": [
        {
          "output_type": "stream",
          "name": "stdout",
          "text": [
            "The shape of matrix is (3, 2)\n"
          ]
        }
      ]
    },
    {
      "cell_type": "code",
      "source": [
        "# Access any value in the matrix using its index( row, col)\n",
        "\n",
        "print(M[0,1])"
      ],
      "metadata": {
        "colab": {
          "base_uri": "https://localhost:8080/"
        },
        "id": "SqZyEprY248X",
        "outputId": "1af8959d-f571-4081-f077-377f5fcbf9b8"
      },
      "execution_count": null,
      "outputs": [
        {
          "output_type": "stream",
          "name": "stdout",
          "text": [
            "-1\n"
          ]
        }
      ]
    },
    {
      "cell_type": "markdown",
      "source": [
        "Try it yourself\n"
      ],
      "metadata": {
        "id": "cJ1_uO8L3WQr"
      }
    },
    {
      "cell_type": "code",
      "source": [
        "print(f'The shape of matrix is {shape(M)}, do not enter index values that are >= matrix shape')\n",
        "row = int(input('Enter the row index: '))\n",
        "col = int(input('Enter the column index: '))\n",
        "\n",
        "print(M[row, col])"
      ],
      "metadata": {
        "colab": {
          "base_uri": "https://localhost:8080/"
        },
        "id": "iCAkJMQ03Yk6",
        "outputId": "1386d8ca-aece-4fc5-ea1c-b9d32bce3bb1"
      },
      "execution_count": null,
      "outputs": [
        {
          "output_type": "stream",
          "name": "stdout",
          "text": [
            "The shape of matrix is (3, 2), do not enter index values that are >= matrix shape\n",
            "Enter the row index: 1\n",
            "Enter the column index: 1\n",
            "4\n"
          ]
        }
      ]
    },
    {
      "cell_type": "code",
      "source": [
        "# To access entire row or column, enter the row/col index when prompted\n",
        "\n",
        "print(f'The shape of matrix is {shape(M)}, do not enter index values that are >= matrix shape')\n",
        "row = int(input('Enter the row index: '))\n",
        "\n",
        "print(M[row, :])\n",
        "\n",
        "print(f'The shape of matrix is {shape(M)}, do not enter index values that are >= matrix shape')\n",
        "col = int(input('Enter the column index: '))\n",
        "\n",
        "print(M[:, col])"
      ],
      "metadata": {
        "id": "AQhSUIZe39HJ"
      },
      "execution_count": null,
      "outputs": []
    },
    {
      "cell_type": "code",
      "source": [
        "# To delete a row / col use `row_del` / `col_del`\n",
        "\n",
        "# Delete a row in the matrix M\n",
        "M = Matrix([[1, -1], [3, 4], [0, 2]])\n",
        "M.row_del(1)\n",
        "print(M)\n",
        "\n",
        "# Delete a column in the matrix M\n",
        "M = Matrix([[1, -1], [3, 4], [0, 2]])\n",
        "M.col_del(0)\n",
        "print(M)\n"
      ],
      "metadata": {
        "id": "H-Owz_MV5veM"
      },
      "execution_count": null,
      "outputs": []
    },
    {
      "cell_type": "code",
      "source": [
        "# To insert a row into matrix M use row_insert(ind, Matrix)\n",
        "\n",
        "M = Matrix([[1, -1], [3, 4], [0, 2]])\n",
        "M = M.row_insert(1, Matrix([[0, 1]]))\n",
        "print(M)\n",
        "\n"
      ],
      "metadata": {
        "colab": {
          "base_uri": "https://localhost:8080/"
        },
        "id": "S34Sjztfg0Hk",
        "outputId": "6495882c-ea14-4d18-c36e-89796a543f96"
      },
      "execution_count": null,
      "outputs": [
        {
          "output_type": "stream",
          "name": "stdout",
          "text": [
            "Matrix([[1, -1], [0, 1], [3, 4], [0, 2]])\n"
          ]
        }
      ]
    },
    {
      "cell_type": "code",
      "source": [
        "# To insert a column into matrix M use col_insert(ind, Matrix)\n",
        "M = Matrix([[1, -1], [3, 4]])\n",
        "M = M.col_insert(1, Matrix([0, 1]))\n",
        "print(M)"
      ],
      "metadata": {
        "colab": {
          "base_uri": "https://localhost:8080/"
        },
        "id": "xU4BXSbuitAQ",
        "outputId": "1b25ecba-611c-440d-c36a-a183a3eb03e5"
      },
      "execution_count": null,
      "outputs": [
        {
          "output_type": "stream",
          "name": "stdout",
          "text": [
            "Matrix([[1, 0, -1], [3, 1, 4]])\n"
          ]
        }
      ]
    },
    {
      "cell_type": "markdown",
      "source": [
        "## **Artithematic Operations on Matrix**"
      ],
      "metadata": {
        "id": "OG0tQwINjeJG"
      }
    },
    {
      "cell_type": "code",
      "source": [
        "## Addition of Matrices\n",
        "\n",
        "# Create two matrices\n",
        "A = Matrix([[1, 2], [3, 4]])\n",
        "B = Matrix([[5, 6], [7, 8]])\n",
        "\n",
        "# Add the matrices\n",
        "C = A + B\n",
        "\n",
        "C\n"
      ],
      "metadata": {
        "colab": {
          "base_uri": "https://localhost:8080/",
          "height": 58
        },
        "id": "2VwIKJTKjQXr",
        "outputId": "81a010a5-b734-4aee-ec26-6b9d67d310ff"
      },
      "execution_count": null,
      "outputs": [
        {
          "output_type": "execute_result",
          "data": {
            "text/plain": [
              "⎡6   8 ⎤\n",
              "⎢      ⎥\n",
              "⎣10  12⎦"
            ],
            "text/latex": "$\\displaystyle \\left[\\begin{matrix}6 & 8\\\\10 & 12\\end{matrix}\\right]$"
          },
          "metadata": {},
          "execution_count": 31
        }
      ]
    },
    {
      "cell_type": "code",
      "source": [
        "## Multiply Matrices\n",
        "\n",
        "# Create two matrices\n",
        "A = Matrix([[1, 2], [3, 4]])\n",
        "B = Matrix([[5, 6], [7, 8]])\n",
        "\n",
        "# Multiply the matrices\n",
        "C = A * B\n",
        "\n",
        "C"
      ],
      "metadata": {
        "colab": {
          "base_uri": "https://localhost:8080/",
          "height": 58
        },
        "id": "Aw0g3yShjmym",
        "outputId": "c486e697-1a51-4f9e-dd61-e36ce69b73d4"
      },
      "execution_count": null,
      "outputs": [
        {
          "output_type": "execute_result",
          "data": {
            "text/plain": [
              "⎡19  22⎤\n",
              "⎢      ⎥\n",
              "⎣43  50⎦"
            ],
            "text/latex": "$\\displaystyle \\left[\\begin{matrix}19 & 22\\\\43 & 50\\end{matrix}\\right]$"
          },
          "metadata": {},
          "execution_count": 32
        }
      ]
    },
    {
      "cell_type": "code",
      "source": [
        "## To find inverse of matrix use M.inv() / M**-1\n",
        "\n",
        "# Create a matrix\n",
        "A = Matrix([[1, 2], [3, 4]])\n",
        "\n",
        "# Calculate the inverse of the matrix\n",
        "A_inv = A**-1\n",
        "\n",
        "A_inv"
      ],
      "metadata": {
        "colab": {
          "base_uri": "https://localhost:8080/",
          "height": 58
        },
        "id": "B8Oh6mdylxmD",
        "outputId": "e22a28e6-c983-4c55-dc9c-c166ad8ad1cc"
      },
      "execution_count": null,
      "outputs": [
        {
          "output_type": "execute_result",
          "data": {
            "text/plain": [
              "⎡-2    1  ⎤\n",
              "⎢         ⎥\n",
              "⎣3/2  -1/2⎦"
            ],
            "text/latex": "$\\displaystyle \\left[\\begin{matrix}-2 & 1\\\\\\frac{3}{2} & - \\frac{1}{2}\\end{matrix}\\right]$"
          },
          "metadata": {},
          "execution_count": 35
        }
      ]
    },
    {
      "cell_type": "code",
      "source": [
        "## To find Transpose of a Matrix, multiply with `T`\n",
        "\n",
        "A = Matrix([[1, 2], [3, 4]])\n",
        "\n",
        "# Calculate the transpose of the matrix\n",
        "A_T = A.T\n",
        "\n",
        "A_T"
      ],
      "metadata": {
        "colab": {
          "base_uri": "https://localhost:8080/",
          "height": 58
        },
        "id": "Kav7tuQmmUVA",
        "outputId": "7a180606-d728-43c0-b605-80c66ae7b317"
      },
      "execution_count": null,
      "outputs": [
        {
          "output_type": "execute_result",
          "data": {
            "text/plain": [
              "⎡1  3⎤\n",
              "⎢    ⎥\n",
              "⎣2  4⎦"
            ],
            "text/latex": "$\\displaystyle \\left[\\begin{matrix}1 & 3\\\\2 & 4\\end{matrix}\\right]$"
          },
          "metadata": {},
          "execution_count": 36
        }
      ]
    },
    {
      "cell_type": "markdown",
      "source": [
        "## ***Trivia***: There are few matrix constructors which can be used in solving mathematical problems."
      ],
      "metadata": {
        "id": "o2PRfLWImmlI"
      }
    },
    {
      "cell_type": "code",
      "source": [
        "## Matrix constructors such as eye(), ones(), zeros(), diag()\n",
        "\n",
        "A = eye(3)\n",
        "\n",
        "B = ones(3, 2)\n",
        "\n",
        "C = zeros(2, 3)\n",
        "\n",
        "D = diag(1, 2, 3)\n",
        "\n",
        "A, B, C, D"
      ],
      "metadata": {
        "colab": {
          "base_uri": "https://localhost:8080/",
          "height": 78
        },
        "id": "rmXhZDCzm20P",
        "outputId": "8fa16cea-a4eb-4d58-d924-7f1d72996e30"
      },
      "execution_count": null,
      "outputs": [
        {
          "output_type": "execute_result",
          "data": {
            "text/plain": [
              "⎛⎡1  0  0⎤  ⎡1  1⎤             ⎡1  0  0⎤⎞\n",
              "⎜⎢       ⎥  ⎢    ⎥  ⎡0  0  0⎤  ⎢       ⎥⎟\n",
              "⎜⎢0  1  0⎥, ⎢1  1⎥, ⎢       ⎥, ⎢0  2  0⎥⎟\n",
              "⎜⎢       ⎥  ⎢    ⎥  ⎣0  0  0⎦  ⎢       ⎥⎟\n",
              "⎝⎣0  0  1⎦  ⎣1  1⎦             ⎣0  0  3⎦⎠"
            ],
            "text/latex": "$\\displaystyle \\left( \\left[\\begin{matrix}1 & 0 & 0\\\\0 & 1 & 0\\\\0 & 0 & 1\\end{matrix}\\right], \\  \\left[\\begin{matrix}1 & 1\\\\1 & 1\\\\1 & 1\\end{matrix}\\right], \\  \\left[\\begin{matrix}0 & 0 & 0\\\\0 & 0 & 0\\end{matrix}\\right], \\  \\left[\\begin{matrix}1 & 0 & 0\\\\0 & 2 & 0\\\\0 & 0 & 3\\end{matrix}\\right]\\right)$"
          },
          "metadata": {},
          "execution_count": 41
        }
      ]
    },
    {
      "cell_type": "markdown",
      "source": [
        "### **Determinant**"
      ],
      "metadata": {
        "id": "SUdGXM1-oJ6l"
      }
    },
    {
      "cell_type": "code",
      "source": [
        "# To find determinant of matrix use M.det()\n",
        "\n",
        "A = Matrix([[1, 2], [3, 4]])\n",
        "det_A = A.det()\n",
        "print(\"Determinant of matrix: \",det_A)\n",
        "\n",
        "\n",
        "# To find eigenvalues of a matrix use eigenvals()\n",
        "\n",
        "A = Matrix([[1, 2], [3, 4]])\n",
        "eigenvals_A = A.eigenvals()\n",
        "print(\"Eigen Values: \",eigenvals_A)\n"
      ],
      "metadata": {
        "colab": {
          "base_uri": "https://localhost:8080/"
        },
        "id": "Szm5vW9unRTM",
        "outputId": "b499fc16-90dd-4670-befc-da66525bfefa"
      },
      "execution_count": null,
      "outputs": [
        {
          "output_type": "stream",
          "name": "stdout",
          "text": [
            "Determinant of matrix:  -2\n",
            "Eigen Values:  {5/2 - sqrt(33)/2: 1, 5/2 + sqrt(33)/2: 1}\n"
          ]
        }
      ]
    },
    {
      "cell_type": "markdown",
      "source": [
        "The ***sympy*** library is very huge since it incorporate many abilities in solving and analyzing mathematical problems. There are few areas I'm interested to explore,\n",
        "\n",
        "\n",
        "\n",
        "1.   Combinatorics\n",
        "2.   Integrals\n",
        "3.   Series\n",
        "4.   Algebras\n",
        "\n"
      ],
      "metadata": {
        "id": "mbtyhixzpObk"
      }
    },
    {
      "cell_type": "markdown",
      "source": [
        "## **Combinatorics**:"
      ],
      "metadata": {
        "id": "QVEX-nl2qSSX"
      }
    },
    {
      "cell_type": "code",
      "source": [
        "# Permutations & Combinations\n",
        "\n",
        "# Combinations\n",
        "n = 5\n",
        "k = 2\n",
        "combinations = binomial(n, k)\n",
        "print(f\"Number of combinations of choosing {k} items from {n} items: {combinations}\")\n",
        "\n",
        "# Permutations\n",
        "n = 5\n",
        "k = 2\n",
        "permutations = factorial(n) // factorial(n - k)\n",
        "print(f\"Number of permutations of choosing {k} items from {n} items: {permutations}\")\n"
      ],
      "metadata": {
        "colab": {
          "base_uri": "https://localhost:8080/"
        },
        "id": "zfQpRRPpqQ9T",
        "outputId": "6843e488-b608-47a7-84a4-43b86df963f6"
      },
      "execution_count": null,
      "outputs": [
        {
          "output_type": "stream",
          "name": "stdout",
          "text": [
            "Number of combinations of choosing 2 items from 5 items: 10\n",
            "Number of permutations of choosing 2 items from 5 items: 20\n"
          ]
        }
      ]
    },
    {
      "cell_type": "markdown",
      "source": [
        "The RGS is returned as a list of indices, L, where L[i] indicates the block in which element i appears. For example, in a partition of 3 elements (a, b, c) into 2 blocks ([c], [a, b]) the RGS is [1, 1, 0]: “a” is in block 1, “b” is in block 1 and “c” is in block 0."
      ],
      "metadata": {
        "id": "GeX-p7G6rS_T"
      }
    },
    {
      "cell_type": "code",
      "source": [
        "from sympy.combinatorics import Partition\n",
        "\n",
        "a = Partition([1, 2], [3], [4, 5])\n",
        "\n",
        "print(f\"The partitions are: {a}\")\n",
        "print(f\"The numbers in the matrix: {a.members}\")\n",
        "print(f\"The RGS if the partitions:  {a.RGS}\")\n",
        "print(f\"The Rank of partitions:  {a.rank}\")"
      ],
      "metadata": {
        "colab": {
          "base_uri": "https://localhost:8080/"
        },
        "id": "46cE8c8-o4B1",
        "outputId": "65d7a97c-67ac-4fa5-82d2-bed643169a25"
      },
      "execution_count": null,
      "outputs": [
        {
          "output_type": "stream",
          "name": "stdout",
          "text": [
            "The partitions are: Partition({3}, {1, 2}, {4, 5})\n",
            "The numbers in the matrix: (1, 2, 3, 4, 5)\n",
            "The RGS if the partitions:  (0, 0, 1, 2, 2)\n",
            "The Rank of partitions:  13\n"
          ]
        }
      ]
    },
    {
      "cell_type": "code",
      "source": [
        "from sympy import I, re, im, conjugate\n",
        "\n",
        "# Define a complex variable\n",
        "z = sp.Symbol('z', complex=True)\n",
        "\n",
        "# Create a complex expression\n",
        "expr = z**2 + 2*z + 1\n",
        "\n",
        "# Calculate the real part\n",
        "real_part = re(expr)\n",
        "print(\"Real part:\", real_part)\n",
        "\n",
        "# Calculate the imaginary part\n",
        "imag_part = im(expr)\n",
        "print(\"Imaginary part:\", imag_part)\n",
        "\n",
        "# Calculate the complex conjugate\n",
        "conjugate_expr = conjugate(expr)\n",
        "print(\"Conjugate:\", conjugate_expr)\n",
        "\n",
        "# Evaluate the expression for a specific complex value\n",
        "z_value = 2 + 3*I\n",
        "result = expr.subs(z, z_value)\n",
        "print(\"Result for z =\", z_value, \":\", result)\n",
        "\n",
        "# Example: Complex function\n",
        "def my_complex_function(z):\n",
        "  return z**2 + I*z + 1\n",
        "\n",
        "\n",
        "# Evaluate the complex function for a specific value\n",
        "z_value = 2 + I\n",
        "result = my_complex_function(z_value)\n",
        "print(\"Result of my_complex_function for z =\", z_value, \":\", result)\n"
      ],
      "metadata": {
        "colab": {
          "base_uri": "https://localhost:8080/"
        },
        "id": "nDWNd2sriFPW",
        "outputId": "e8fb9cbc-a2aa-4d41-e0d7-f36ebb03543e"
      },
      "execution_count": null,
      "outputs": [
        {
          "output_type": "stream",
          "name": "stdout",
          "text": [
            "Real part: re(z)**2 + 2*re(z) - im(z)**2 + 1\n",
            "Imaginary part: 2*re(z)*im(z) + 2*im(z)\n",
            "Conjugate: conjugate(z)**2 + 2*conjugate(z) + 1\n",
            "Result for z = 2 + 3*I : 5 + 6*I + (2 + 3*I)**2\n",
            "Result of my_complex_function for z = 2 + I : 1 + I*(2 + I) + (2 + I)**2\n"
          ]
        }
      ]
    },
    {
      "cell_type": "markdown",
      "source": [
        "## **SIGN**\n",
        "\n",
        "If the expression is real the sign will be:\n",
        "\n",
        "*   If expression is positive\n",
        "*   If expression is equal to zero\n",
        "*   If expression is negative\n",
        "\n",
        "\n",
        "If the expression is imaginary the sign will be:\n",
        "\n",
        "\n",
        "*   If im(expression) is positive\n",
        "*   If im(expression) is negative\n"
      ],
      "metadata": {
        "id": "RE8QfpQjjISF"
      }
    },
    {
      "cell_type": "code",
      "source": [
        "from sympy import sign, I\n",
        "print(sign(-1))\n",
        "print(sign(0))\n",
        "print(sign(1))\n",
        "print(sign(I))\n",
        "print(sign(1 + I))\n"
      ],
      "metadata": {
        "colab": {
          "base_uri": "https://localhost:8080/"
        },
        "id": "6uPRCy43i20R",
        "outputId": "b62ccb03-c81f-4cdd-80dc-6164d7ac02a7"
      },
      "execution_count": null,
      "outputs": [
        {
          "output_type": "stream",
          "name": "stdout",
          "text": [
            "-1\n",
            "0\n",
            "1\n",
            "I\n",
            "sign(1 + I)\n",
            "0\n"
          ]
        }
      ]
    },
    {
      "cell_type": "markdown",
      "source": [
        "## **Logical Expressions**\n",
        "\n",
        "Usage of Boolean expressions with the standard python operators & (And), | (Or), ~ (Not)"
      ],
      "metadata": {
        "id": "KPdO9zE6kZYj"
      }
    },
    {
      "cell_type": "code",
      "source": [
        "# Create symbolic variables\n",
        "x, y = sp.symbols('x y')\n",
        "\n",
        "# Example 1: AND operation\n",
        "expr1 = (x > 2) & (y < 5)\n",
        "print(\"Expression 1:\", expr1)\n",
        "\n",
        "# Example 2: OR operation\n",
        "expr2 = (x == 0) | (y == 1)\n",
        "print(\"Expression 2:\", expr2)\n",
        "\n",
        "# Example 3: NOT operation\n",
        "expr3 = ~(x > 0)\n",
        "print(\"Expression 3:\", expr3)\n",
        "\n",
        "# Example 4: Combining operations\n",
        "expr4 = ((x > 1) & (y < 3)) | (x == y)\n",
        "print(\"Expression 4:\", expr4)\n",
        "\n",
        "# You can also use these operations within solve or other SymPy functions\n",
        "# For example, to find the values of x and y that satisfy both x > 2 and y < 5:\n",
        "solutions = sp.solve([x > 2, y < 5], [x, y])\n",
        "print(\"Solutions:\", solutions)\n"
      ],
      "metadata": {
        "id": "PrELlHw1klKj"
      },
      "execution_count": null,
      "outputs": []
    },
    {
      "cell_type": "code",
      "source": [
        "# Usage substituions in logical computations\n",
        "(y & x).subs({x: True, y: True})"
      ],
      "metadata": {
        "colab": {
          "base_uri": "https://localhost:8080/",
          "height": 37
        },
        "id": "ryMs7VfUlAEL",
        "outputId": "aeca30a1-9b6e-4382-8581-4dcbb51b7847"
      },
      "execution_count": null,
      "outputs": [
        {
          "output_type": "execute_result",
          "data": {
            "text/plain": [
              "True"
            ],
            "text/latex": "$\\displaystyle \\text{True}$"
          },
          "metadata": {},
          "execution_count": 18
        }
      ]
    },
    {
      "cell_type": "markdown",
      "source": [
        "### **There is an interesting topic in digital signal processing, which is SOP(Sum Of Products) & POS(Product Of Sums)**\n",
        "\n",
        "The SOPform function uses simplified_pairs and a redundant group- eliminating algorithm to convert the list of all input combos that generate ‘1’ (the minterms) into the smallest sum-of-products form"
      ],
      "metadata": {
        "id": "dzipf2NClQSN"
      }
    },
    {
      "cell_type": "code",
      "source": [
        "from sympy.logic.boolalg import SOPform\n",
        "\n",
        "# Define the variables\n",
        "w, x, y, z = sp.symbols('w x y z')\n",
        "variables = [w, x, y, z]\n",
        "\n",
        "# Define the minterms (the combinations of inputs that produce a 1 output)\n",
        "minterms = [[0, 0, 0, 1], [0, 0, 1, 1],\n",
        "            [0, 1, 1, 1], [1, 0, 1, 1], [1, 1, 1, 1]]\n",
        "dontcares = [[0, 0, 0, 0], [0, 0, 1, 0], [0, 1, 0, 1]]\n",
        "\n",
        "# Generate the SOP form\n",
        "sop_expression = SOPform(variables, minterms, dontcares)\n",
        "\n",
        "print(\"SOP form:\", sop_expression)\n"
      ],
      "metadata": {
        "colab": {
          "base_uri": "https://localhost:8080/"
        },
        "id": "Ha3720R3liMz",
        "outputId": "17f9da3f-b965-4077-9016-b8799f2af701"
      },
      "execution_count": null,
      "outputs": [
        {
          "output_type": "stream",
          "name": "stdout",
          "text": [
            "SOP form: (y & z) | (~w & ~x)\n"
          ]
        }
      ]
    },
    {
      "cell_type": "code",
      "source": [
        "# Instead of matrix, Integers can also be used for variables\n",
        "\n",
        "minterms = [1, 3, 7, 11, 15]\n",
        "dontcares = [0, 2, 5]\n",
        "SOPform([w, x, y, z], minterms, dontcares)"
      ],
      "metadata": {
        "colab": {
          "base_uri": "https://localhost:8080/",
          "height": 38
        },
        "id": "tvjUBDkqmyG2",
        "outputId": "e376bc09-5ad2-4e51-dc2c-3ef65765db4e"
      },
      "execution_count": null,
      "outputs": [
        {
          "output_type": "execute_result",
          "data": {
            "text/plain": [
              "(y ∧ z) ∨ (¬w ∧ ¬x)"
            ],
            "text/latex": "$\\displaystyle \\left(y \\wedge z\\right) \\vee \\left(\\neg w \\wedge \\neg x\\right)$"
          },
          "metadata": {},
          "execution_count": 24
        }
      ]
    },
    {
      "cell_type": "code",
      "source": [
        "# Instead of matrix, dicts can also be used for variables\n",
        "\n",
        "minterms = [{w: 0, x: 1}, {y: 1, z: 1, x: 0}]\n",
        "SOPform([w, x, y, z], minterms)"
      ],
      "metadata": {
        "colab": {
          "base_uri": "https://localhost:8080/",
          "height": 38
        },
        "id": "Po2wkMWLnWhD",
        "outputId": "87454a4d-8a65-45bf-ce24-29c37363f8f9"
      },
      "execution_count": null,
      "outputs": [
        {
          "output_type": "execute_result",
          "data": {
            "text/plain": [
              "(x ∧ ¬w) ∨ (y ∧ z ∧ ¬x)"
            ],
            "text/latex": "$\\displaystyle \\left(x \\wedge \\neg w\\right) \\vee \\left(y \\wedge z \\wedge \\neg x\\right)$"
          },
          "metadata": {},
          "execution_count": 25
        }
      ]
    },
    {
      "cell_type": "markdown",
      "source": [
        "**Try it yourself**"
      ],
      "metadata": {
        "id": "xSIZNiydnt6K"
      }
    },
    {
      "cell_type": "code",
      "source": [
        "w, x, y, z = map(int, input(\"Enter the variables separated by space: \").split())\n",
        "\n",
        "minterms = [{w: w, x: x}, {y: y, z: z, x: x}]\n",
        "print(SOPform([w, x, y, z], minterms))\n",
        "\n",
        "del x, y, z, w"
      ],
      "metadata": {
        "colab": {
          "base_uri": "https://localhost:8080/"
        },
        "id": "3V_dbrSvnyPX",
        "outputId": "9964b101-810c-4c78-f71c-39bb5c0ac06f"
      },
      "execution_count": null,
      "outputs": [
        {
          "output_type": "stream",
          "name": "stdout",
          "text": [
            "Enter the variables separated by space: 0 1 1 1\n",
            "True\n"
          ]
        }
      ]
    },
    {
      "cell_type": "markdown",
      "source": [
        "The **POSform** function uses simplified_pairs and a redundant-group eliminating algorithm to convert the list of all input combinations that generate ‘1’ (the minterms) into the smallest product-of-sums form."
      ],
      "metadata": {
        "id": "IjEfpNDupmFK"
      }
    },
    {
      "cell_type": "code",
      "source": [
        "from sympy.logic import POSform\n",
        "from sympy import symbols\n",
        "w, x, y, z = symbols('w x y z')\n",
        "minterms = [[0, 0, 0, 1], [0, 0, 1, 1], [0, 1, 1, 1],\n",
        "            [1, 0, 1, 1], [1, 1, 1, 1]]\n",
        "dontcares = [[0, 0, 0, 0], [0, 0, 1, 0], [0, 1, 0, 1]]\n",
        "POSform([w, x, y, z], minterms, dontcares)"
      ],
      "metadata": {
        "colab": {
          "base_uri": "https://localhost:8080/",
          "height": 38
        },
        "id": "JfzTdTjGpj86",
        "outputId": "e5b57eb5-59be-4963-b723-1f8d85fe1217"
      },
      "execution_count": null,
      "outputs": [
        {
          "output_type": "execute_result",
          "data": {
            "text/plain": [
              "z ∧ (y ∨ ¬w)"
            ],
            "text/latex": "$\\displaystyle z \\wedge \\left(y \\vee \\neg w\\right)$"
          },
          "metadata": {},
          "execution_count": 31
        }
      ]
    },
    {
      "cell_type": "code",
      "source": [
        "minterms = [1, 3, 7, 11, 15]\n",
        "dontcares = [0, 2, 5]\n",
        "POSform([w, x, y, z], minterms, dontcares)"
      ],
      "metadata": {
        "colab": {
          "base_uri": "https://localhost:8080/",
          "height": 38
        },
        "id": "1GHt9qwtpuni",
        "outputId": "d1f563f9-cdce-4ac2-bd2e-903523693ea5"
      },
      "execution_count": null,
      "outputs": [
        {
          "output_type": "execute_result",
          "data": {
            "text/plain": [
              "z ∧ (y ∨ ¬w)"
            ],
            "text/latex": "$\\displaystyle z \\wedge \\left(y \\vee \\neg w\\right)$"
          },
          "metadata": {},
          "execution_count": 32
        }
      ]
    },
    {
      "cell_type": "markdown",
      "source": [
        "**`NAND`** Operation\n",
        "\n",
        "It evaluates its arguments in order, giving True immediately if any of them are False, and False if they are all True."
      ],
      "metadata": {
        "id": "IkVDqLg3qQUw"
      }
    },
    {
      "cell_type": "code",
      "source": [
        "from sympy.logic.boolalg import Nand\n",
        "from sympy import symbols\n",
        "x, y = symbols('x y')\n",
        "Nand(x, y)"
      ],
      "metadata": {
        "colab": {
          "base_uri": "https://localhost:8080/",
          "height": 38
        },
        "id": "UDRtqugYqUMf",
        "outputId": "4b4314ae-9851-4a06-ac73-52409e8fd703"
      },
      "execution_count": null,
      "outputs": [
        {
          "output_type": "execute_result",
          "data": {
            "text/plain": [
              "¬(x ∧ y)"
            ],
            "text/latex": "$\\displaystyle \\neg \\left(x \\wedge y\\right)$"
          },
          "metadata": {},
          "execution_count": 33
        }
      ]
    },
    {
      "cell_type": "code",
      "source": [
        "x, y = map(bool, input(\"Enter the variables separated by space: \").split())\n",
        "Nand(x, y)"
      ],
      "metadata": {
        "colab": {
          "base_uri": "https://localhost:8080/",
          "height": 55
        },
        "id": "l0-G6cVIqYQr",
        "outputId": "79f4e6a6-c8dc-4735-c9be-e263e869f754"
      },
      "execution_count": null,
      "outputs": [
        {
          "name": "stdout",
          "output_type": "stream",
          "text": [
            "Enter the variables separated by space: 0 1\n"
          ]
        },
        {
          "output_type": "execute_result",
          "data": {
            "text/plain": [
              "True"
            ],
            "text/latex": "$\\displaystyle \\text{True}$"
          },
          "metadata": {},
          "execution_count": 34
        }
      ]
    },
    {
      "cell_type": "markdown",
      "source": [
        "**NOR** Operation\n",
        "\n",
        "It evaluates its arguments in order, giving False immediately if any of them are True, and True if they are all False."
      ],
      "metadata": {
        "id": "MLQnCnyMqxYN"
      }
    },
    {
      "cell_type": "code",
      "source": [
        "from sympy.logic.boolalg import Nor\n",
        "from sympy import symbols\n",
        "x, y = symbols('x y')\n",
        "Nor(x, y)"
      ],
      "metadata": {
        "colab": {
          "base_uri": "https://localhost:8080/",
          "height": 38
        },
        "id": "4broamYZq04m",
        "outputId": "9d616b55-94c4-4448-e9d7-ed2ef95f16e6"
      },
      "execution_count": null,
      "outputs": [
        {
          "output_type": "execute_result",
          "data": {
            "text/plain": [
              "¬(x ∨ y)"
            ],
            "text/latex": "$\\displaystyle \\neg \\left(x \\vee y\\right)$"
          },
          "metadata": {},
          "execution_count": 35
        }
      ]
    },
    {
      "cell_type": "code",
      "source": [
        "x, y = map(bool, input(\"Enter the variables separated by space: \").split())\n",
        "Nor(x, y)"
      ],
      "metadata": {
        "colab": {
          "base_uri": "https://localhost:8080/",
          "height": 55
        },
        "id": "GRHSKmGfq6ff",
        "outputId": "49723795-d76a-4a09-a48b-b89509d0fc0c"
      },
      "execution_count": null,
      "outputs": [
        {
          "name": "stdout",
          "output_type": "stream",
          "text": [
            "Enter the variables separated by space: 1 1\n"
          ]
        },
        {
          "output_type": "execute_result",
          "data": {
            "text/plain": [
              "False"
            ],
            "text/latex": "$\\displaystyle \\text{False}$"
          },
          "metadata": {},
          "execution_count": 36
        }
      ]
    },
    {
      "cell_type": "markdown",
      "source": [
        "**XNOR** Operation\n",
        "\n",
        "Returns False if an odd number of the arguments are True and the rest are False.\n",
        "\n",
        "Returns True if an even number of the arguments are True and the rest are False."
      ],
      "metadata": {
        "id": "MFXE-Lhf5Bm3"
      }
    },
    {
      "cell_type": "code",
      "source": [
        "from sympy.logic.boolalg import Xnor\n",
        "from sympy import symbols\n",
        "x, y = symbols('x y')\n",
        "Xnor(x,y)"
      ],
      "metadata": {
        "colab": {
          "base_uri": "https://localhost:8080/",
          "height": 38
        },
        "id": "H-ZHpAiW5MWx",
        "outputId": "aaea8d92-bd8c-493e-9741-4feb4f63168b"
      },
      "execution_count": null,
      "outputs": [
        {
          "output_type": "execute_result",
          "data": {
            "text/plain": [
              "¬(x ⊻ y)"
            ],
            "text/latex": "$\\displaystyle \\neg \\left(x \\veebar y\\right)$"
          },
          "metadata": {},
          "execution_count": 37
        }
      ]
    },
    {
      "cell_type": "code",
      "source": [
        "x, y = map(bool, input(\"Enter the variables separated by space: \").split())\n",
        "Xnor(x, y)"
      ],
      "metadata": {
        "colab": {
          "base_uri": "https://localhost:8080/",
          "height": 55
        },
        "id": "9Q0zQCtf5UXc",
        "outputId": "99b2b06a-f3b4-4397-c8e1-34bd7f3e2b5d"
      },
      "execution_count": null,
      "outputs": [
        {
          "name": "stdout",
          "output_type": "stream",
          "text": [
            "Enter the variables separated by space: True False\n"
          ]
        },
        {
          "output_type": "execute_result",
          "data": {
            "text/plain": [
              "True"
            ],
            "text/latex": "$\\displaystyle \\text{True}$"
          },
          "metadata": {},
          "execution_count": 39
        }
      ]
    },
    {
      "cell_type": "markdown",
      "source": [
        "## **Sieve**\n",
        "\n",
        "**Sieve** function is used to efficiently generate prime numbers using the Sieve of Eratosthenes. SymPy provides a Sieve class that allows you to generate and cache prime numbers for various purposes"
      ],
      "metadata": {
        "id": "oCEAN3bD7ZnO"
      }
    },
    {
      "cell_type": "code",
      "source": [
        "import sympy\n",
        "\n",
        "# Generate prime numbers up to a certain limit using the sieve of Eratosthenes\n",
        "limit = 20\n",
        "primes = list(sympy.sieve.primerange(0, limit))\n",
        "\n",
        "print(f\"Prime numbers up to {limit}: {primes}\")\n",
        "\n",
        "# You can also find the nth prime number using sympy.prime(n)\n",
        "n = 10\n",
        "nth_prime = sympy.prime(n)\n",
        "print(f\"The {n}th prime number is: {nth_prime}\")\n"
      ],
      "metadata": {
        "colab": {
          "base_uri": "https://localhost:8080/"
        },
        "id": "XXE9_Shh7IZ5",
        "outputId": "7deb4416-6b45-4ad4-f07f-359ee92bdfd3"
      },
      "execution_count": null,
      "outputs": [
        {
          "output_type": "stream",
          "name": "stdout",
          "text": [
            "Prime numbers up to 20: [2, 3, 5, 7, 11, 13, 17, 19]\n",
            "The 10th prime number is: 29\n"
          ]
        }
      ]
    },
    {
      "cell_type": "markdown",
      "source": [
        "***Try it yourself***"
      ],
      "metadata": {
        "id": "agb9PHXS7zFj"
      }
    },
    {
      "cell_type": "code",
      "source": [
        "n = int(input(\"Enter the value of n: \"))\n",
        "print(f\"The {n}th prime number is: {sympy.prime(n)}\")"
      ],
      "metadata": {
        "colab": {
          "base_uri": "https://localhost:8080/"
        },
        "id": "toBrVWnk7hZi",
        "outputId": "c809b7b9-21b8-4272-eb6b-3cc81838afb8"
      },
      "execution_count": null,
      "outputs": [
        {
          "output_type": "stream",
          "name": "stdout",
          "text": [
            "Enter the value of n: 11\n",
            "The 11th prime number is: 31\n"
          ]
        }
      ]
    },
    {
      "cell_type": "code",
      "source": [
        "# To check whether a number is prime or not use `isprime` method\n",
        "from sympy import prime, isprime\n",
        "isprime(25)"
      ],
      "metadata": {
        "colab": {
          "base_uri": "https://localhost:8080/"
        },
        "id": "M0Fus6xN8BBa",
        "outputId": "b6b03a35-a3ec-4f10-f9a8-9a2045d4e83e"
      },
      "execution_count": null,
      "outputs": [
        {
          "output_type": "execute_result",
          "data": {
            "text/plain": [
              "False"
            ]
          },
          "metadata": {},
          "execution_count": 42
        }
      ]
    },
    {
      "cell_type": "code",
      "source": [
        "n = int(input(\"Enter the value of n: \"))\n",
        "print(f\"{n} is a prime number: {isprime(n)}\")"
      ],
      "metadata": {
        "colab": {
          "base_uri": "https://localhost:8080/"
        },
        "id": "EXJ1SM2O8UF1",
        "outputId": "2362fd0d-1dd9-4fd4-aa40-c0c94a9ddbc4"
      },
      "execution_count": null,
      "outputs": [
        {
          "output_type": "stream",
          "name": "stdout",
          "text": [
            "Enter the value of n: 56\n",
            "56 is a prime number: False\n"
          ]
        }
      ]
    },
    {
      "cell_type": "code",
      "source": [
        "# nextprime(n, ith=1), Return the ith prime greater than n.\n",
        "from sympy import nextprime\n",
        "[(i, nextprime(i)) for i in range(10, 15)]"
      ],
      "metadata": {
        "colab": {
          "base_uri": "https://localhost:8080/",
          "height": 37
        },
        "id": "MgTNyNR68pVv",
        "outputId": "94580f9f-362a-446d-c291-7a79c8dd9e51"
      },
      "execution_count": null,
      "outputs": [
        {
          "output_type": "execute_result",
          "data": {
            "text/plain": [
              "[(10, 11), (11, 13), (12, 13), (13, 17), (14, 17)]"
            ],
            "text/latex": "$\\displaystyle \\left[ \\left( 10, \\  11\\right), \\  \\left( 11, \\  13\\right), \\  \\left( 12, \\  13\\right), \\  \\left( 13, \\  17\\right), \\  \\left( 14, \\  17\\right)\\right]$"
          },
          "metadata": {},
          "execution_count": 44
        }
      ]
    }
  ]
}