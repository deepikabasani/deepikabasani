{
  "nbformat": 4,
  "nbformat_minor": 0,
  "metadata": {
    "colab": {
      "provenance": []
    },
    "kernelspec": {
      "name": "python3",
      "display_name": "Python 3"
    },
    "language_info": {
      "name": "python"
    }
  },
  "cells": [
    {
      "cell_type": "code",
      "execution_count": null,
      "metadata": {
        "colab": {
          "base_uri": "https://localhost:8080/"
        },
        "id": "RdNehb7tvjSW",
        "outputId": "81973a35-9f63-4b55-ab26-90081a0affaa"
      },
      "outputs": [
        {
          "output_type": "stream",
          "name": "stdout",
          "text": [
            "    Sample_ID    Year Country Continent Beta.lactamase Azithromycin  \\\n",
            "0  ERR1549286  2015.0      UK    Europe            NaN         >256   \n",
            "1  ERR1549290  2015.0      UK    Europe            NaN         >256   \n",
            "2  ERR1549291  2015.0      UK    Europe            NaN         >256   \n",
            "3  ERR1549287  2015.0      UK    Europe            NaN         >256   \n",
            "4  ERR1549288  2015.0      UK    Europe            NaN         >256   \n",
            "\n",
            "  Ciprofloxacin Ceftriaxone Cefixime Tetracycline  ... log2_cro_mic  \\\n",
            "0           NaN       0.016      NaN          NaN  ...    -5.965784   \n",
            "1           NaN       0.004      NaN          NaN  ...    -7.965784   \n",
            "2           NaN       0.006      NaN          NaN  ...    -7.380822   \n",
            "3           NaN       0.006      NaN          NaN  ...    -7.380822   \n",
            "4           NaN       0.008      NaN          NaN  ...    -6.965784   \n",
            "\n",
            "  log2_cfx_mic  log2_tet_mic  log2_pen_mic  azm_sr  cip_sr  cro_sr  cfx_sr  \\\n",
            "0          NaN           NaN           NaN     1.0     NaN     0.0     NaN   \n",
            "1          NaN           NaN           NaN     1.0     NaN     0.0     NaN   \n",
            "2          NaN           NaN           NaN     1.0     NaN     0.0     NaN   \n",
            "3          NaN           NaN           NaN     1.0     NaN     0.0     NaN   \n",
            "4          NaN           NaN           NaN     1.0     NaN     0.0     NaN   \n",
            "\n",
            "   tet_sr  pen_sr  \n",
            "0     NaN     NaN  \n",
            "1     NaN     NaN  \n",
            "2     NaN     NaN  \n",
            "3     NaN     NaN  \n",
            "4     NaN     NaN  \n",
            "\n",
            "[5 rows x 31 columns]\n"
          ]
        }
      ],
      "source": [
        "import pandas as pd\n",
        "import numpy as np\n",
        "import matplotlib.pyplot as plt\n",
        "import seaborn as sns\n",
        "from sklearn.model_selection import train_test_split, cross_val_score\n",
        "from sklearn.preprocessing import StandardScaler\n",
        "from sklearn.ensemble import RandomForestClassifier\n",
        "from sklearn.metrics import accuracy_score, confusion_matrix, classification_report\n",
        "\n",
        "# Load the dataset\n",
        "file_path = '/content/metadata.csv'  # Path to the uploaded dataset\n",
        "dataset = pd.read_csv(file_path)\n",
        "\n",
        "# Display the first few rows to inspect the dataset\n",
        "print(dataset.head())\n"
      ]
    },
    {
      "cell_type": "code",
      "source": [
        "# Check for missing values in each column\n",
        "missing_values = dataset.isnull().sum()\n",
        "print(\"Missing Values:\")\n",
        "print(missing_values)\n"
      ],
      "metadata": {
        "colab": {
          "base_uri": "https://localhost:8080/"
        },
        "id": "OnTiRy9xv_8e",
        "outputId": "9b879361-23cb-4769-a6b3-fa4553c1ba02"
      },
      "execution_count": null,
      "outputs": [
        {
          "output_type": "stream",
          "name": "stdout",
          "text": [
            "Missing Values:\n",
            "Sample_ID            0\n",
            "Year               250\n",
            "Country              1\n",
            "Continent            1\n",
            "Beta.lactamase    1859\n",
            "Azithromycin       306\n",
            "Ciprofloxacin      657\n",
            "Ceftriaxone        350\n",
            "Cefixime           381\n",
            "Tetracycline      2314\n",
            "Penicillin        2321\n",
            "NG_MAST              7\n",
            "Group                0\n",
            "azm_mic            308\n",
            "cip_mic            698\n",
            "cro_mic            352\n",
            "cfx_mic            385\n",
            "tet_mic           2314\n",
            "pen_mic           2321\n",
            "log2_azm_mic       308\n",
            "log2_cip_mic       698\n",
            "log2_cro_mic       352\n",
            "log2_cfx_mic       385\n",
            "log2_tet_mic      2314\n",
            "log2_pen_mic      2321\n",
            "azm_sr             308\n",
            "cip_sr             698\n",
            "cro_sr             352\n",
            "cfx_sr             385\n",
            "tet_sr            2314\n",
            "pen_sr            2321\n",
            "dtype: int64\n"
          ]
        }
      ]
    },
    {
      "cell_type": "code",
      "source": [
        "# Fill missing numerical values with the column mean\n",
        "numeric_columns = dataset.select_dtypes(include=[np.number]).columns\n",
        "dataset[numeric_columns] = dataset[numeric_columns].fillna(dataset[numeric_columns].mean())\n",
        "\n",
        "# Fill missing categorical values with the mode\n",
        "categorical_columns = dataset.select_dtypes(include=[object]).columns\n",
        "dataset[categorical_columns] = dataset[categorical_columns].fillna(dataset[categorical_columns].mode().iloc[0])\n",
        "\n",
        "# Verify that there are no more missing values\n",
        "print(\"\\nMissing Values After Imputation:\")\n",
        "print(dataset.isnull().sum())\n"
      ],
      "metadata": {
        "colab": {
          "base_uri": "https://localhost:8080/"
        },
        "id": "1mxnNqxfwOc5",
        "outputId": "f543264e-1fc9-4676-dfeb-5fcfea9b3dc3"
      },
      "execution_count": null,
      "outputs": [
        {
          "output_type": "stream",
          "name": "stdout",
          "text": [
            "\n",
            "Missing Values After Imputation:\n",
            "Sample_ID         0\n",
            "Year              0\n",
            "Country           0\n",
            "Continent         0\n",
            "Beta.lactamase    0\n",
            "Azithromycin      0\n",
            "Ciprofloxacin     0\n",
            "Ceftriaxone       0\n",
            "Cefixime          0\n",
            "Tetracycline      0\n",
            "Penicillin        0\n",
            "NG_MAST           0\n",
            "Group             0\n",
            "azm_mic           0\n",
            "cip_mic           0\n",
            "cro_mic           0\n",
            "cfx_mic           0\n",
            "tet_mic           0\n",
            "pen_mic           0\n",
            "log2_azm_mic      0\n",
            "log2_cip_mic      0\n",
            "log2_cro_mic      0\n",
            "log2_cfx_mic      0\n",
            "log2_tet_mic      0\n",
            "log2_pen_mic      0\n",
            "azm_sr            0\n",
            "cip_sr            0\n",
            "cro_sr            0\n",
            "cfx_sr            0\n",
            "tet_sr            0\n",
            "pen_sr            0\n",
            "dtype: int64\n"
          ]
        }
      ]
    },
    {
      "cell_type": "code",
      "source": [
        "def convert_to_numeric(value):\n",
        "    # First check if the value is a string\n",
        "    if isinstance(value, str):\n",
        "        # Handle cases like '>256', '=512', etc.\n",
        "        if '>' in value or '=' in value:\n",
        "            # Remove '>' or '=' and return the numeric value\n",
        "            try:\n",
        "                return float(value.replace('>', '').replace('=', ''))\n",
        "            except ValueError:\n",
        "                return np.nan  # If conversion fails, return NaN\n",
        "\n",
        "        # Handle cases like '<0.008' by replacing '<' with an empty string\n",
        "        elif '<' in value:\n",
        "            try:\n",
        "                return float(value.replace('<', ''))  # Remove '<' and convert to float\n",
        "            except ValueError:\n",
        "                return np.nan  # If conversion fails, return NaN\n",
        "\n",
        "        # If it's a valid numeric string, convert it directly\n",
        "        try:\n",
        "            return float(value)\n",
        "        except ValueError:\n",
        "            return np.nan  # For invalid numeric strings, return NaN\n",
        "\n",
        "    # If it's already a numeric value (int or float), return it as is\n",
        "    return value\n",
        "\n",
        "# Step 1: Identify object columns that might contain numeric-like values\n",
        "# These columns are object columns, but some of them might contain numeric values in string format\n",
        "potential_numeric_columns = dataset.select_dtypes(include=[object]).columns\n",
        "\n",
        "# Step 2: Loop through each potential numeric column and convert\n",
        "for col in potential_numeric_columns:\n",
        "    dataset[col] = dataset[col].apply(convert_to_numeric)\n",
        "\n",
        "# Step 3: Handle missing values for numeric columns (after conversion)\n",
        "# Loop through numeric columns and fill NaN values with the mean of each column\n",
        "numeric_columns = dataset.select_dtypes(include=[np.number]).columns\n",
        "for col in numeric_columns:\n",
        "    dataset[col] = dataset[col].fillna(dataset[col].mean())\n",
        "\n",
        "# Step 4: Handle missing values for categorical columns\n",
        "# Loop through categorical columns and fill NaN values with the mode (most frequent value)\n",
        "categorical_columns = dataset.select_dtypes(include=[object]).columns\n",
        "for col in categorical_columns:\n",
        "    dataset[col] = dataset[col].fillna(dataset[col].mode().iloc[0])\n",
        "\n",
        "# Step 5: Verify if there are still any missing values after imputation\n",
        "print(\"\\nMissing Values After Imputation:\")\n",
        "print(dataset.isnull().sum())\n",
        "# Check how many unique values exist in these columns\n",
        "print(dataset['Country'].value_counts(dropna=False))\n",
        "print(dataset['Continent'].value_counts(dropna=False))\n",
        "\n",
        "# Check if there are rows where 'Country' and 'Continent' are still NaN\n",
        "missing_countries = dataset[dataset['Country'].isnull()]\n",
        "missing_continents = dataset[dataset['Continent'].isnull()]\n",
        "\n",
        "# Print out the rows with missing country and continent values\n",
        "print(missing_countries)\n",
        "print(missing_continents)\n"
      ],
      "metadata": {
        "colab": {
          "base_uri": "https://localhost:8080/"
        },
        "id": "LLfMDmYgwdSn",
        "outputId": "178886eb-64d8-4df8-c466-44f563d7eddb"
      },
      "execution_count": null,
      "outputs": [
        {
          "output_type": "stream",
          "name": "stdout",
          "text": [
            "\n",
            "Missing Values After Imputation:\n",
            "Sample_ID            0\n",
            "Year                 0\n",
            "Country           3786\n",
            "Continent         3786\n",
            "Beta.lactamase       0\n",
            "Azithromycin         0\n",
            "Ciprofloxacin        0\n",
            "Ceftriaxone          0\n",
            "Cefixime             0\n",
            "Tetracycline         0\n",
            "Penicillin           0\n",
            "NG_MAST              0\n",
            "Group                0\n",
            "azm_mic              0\n",
            "cip_mic              0\n",
            "cro_mic              0\n",
            "cfx_mic              0\n",
            "tet_mic              0\n",
            "pen_mic              0\n",
            "log2_azm_mic         0\n",
            "log2_cip_mic         0\n",
            "log2_cro_mic         0\n",
            "log2_cfx_mic         0\n",
            "log2_tet_mic         0\n",
            "log2_pen_mic         0\n",
            "azm_sr               0\n",
            "cip_sr               0\n",
            "cro_sr               0\n",
            "cfx_sr               0\n",
            "tet_sr               0\n",
            "pen_sr               0\n",
            "dtype: int64\n",
            "Country\n",
            "NaN    3786\n",
            "Name: count, dtype: int64\n",
            "Continent\n",
            "NaN    3786\n",
            "Name: count, dtype: int64\n",
            "         Sample_ID    Year  Country  Continent  Beta.lactamase  Azithromycin  \\\n",
            "0     14138.043478  2015.0      NaN        NaN        0.102439        256.00   \n",
            "1     14138.043478  2015.0      NaN        NaN        0.102439        256.00   \n",
            "2     14138.043478  2015.0      NaN        NaN        0.102439        256.00   \n",
            "3     14138.043478  2015.0      NaN        NaN        0.102439        256.00   \n",
            "4     14138.043478  2015.0      NaN        NaN        0.102439        256.00   \n",
            "...            ...     ...      ...        ...             ...           ...   \n",
            "3781  14138.043478  2016.0      NaN        NaN        0.102439        256.00   \n",
            "3782  14138.043478  2016.0      NaN        NaN        0.102439        256.00   \n",
            "3783  14138.043478  2016.0      NaN        NaN        0.102439        256.00   \n",
            "3784  14138.043478  2015.0      NaN        NaN        0.102439        256.00   \n",
            "3785  14138.043478  2014.0      NaN        NaN        0.102439          0.19   \n",
            "\n",
            "      Ciprofloxacin  Ceftriaxone  Cefixime  Tetracycline  ...  log2_cro_mic  \\\n",
            "0              16.0        0.016     0.016           2.0  ...     -5.965784   \n",
            "1              16.0        0.004     0.016           2.0  ...     -7.965784   \n",
            "2              16.0        0.006     0.016           2.0  ...     -7.380822   \n",
            "3              16.0        0.006     0.016           2.0  ...     -7.380822   \n",
            "4              16.0        0.008     0.016           2.0  ...     -6.965784   \n",
            "...             ...          ...       ...           ...  ...           ...   \n",
            "3781           16.0        0.008     0.016           2.0  ...     -6.203940   \n",
            "3782           16.0        0.008     0.016           2.0  ...     -6.203940   \n",
            "3783           16.0        0.008     0.016           2.0  ...     -6.203940   \n",
            "3784           16.0        0.008     0.016           2.0  ...     -6.203940   \n",
            "3785           16.0        0.008     0.016           2.0  ...     -6.203940   \n",
            "\n",
            "      log2_cfx_mic  log2_tet_mic  log2_pen_mic  azm_sr    cip_sr    cro_sr  \\\n",
            "0        -5.164221      0.835492     -0.427788     1.0  0.462435  0.000000   \n",
            "1        -5.164221      0.835492     -0.427788     1.0  0.462435  0.000000   \n",
            "2        -5.164221      0.835492     -0.427788     1.0  0.462435  0.000000   \n",
            "3        -5.164221      0.835492     -0.427788     1.0  0.462435  0.000000   \n",
            "4        -5.164221      0.835492     -0.427788     1.0  0.462435  0.000000   \n",
            "...            ...           ...           ...     ...       ...       ...   \n",
            "3781     -5.164221      0.835492     -0.427788     1.0  0.462435  0.001165   \n",
            "3782     -5.164221      0.835492     -0.427788     1.0  0.462435  0.001165   \n",
            "3783     -5.164221      0.835492     -0.427788     1.0  0.462435  0.001165   \n",
            "3784     -5.164221      0.835492     -0.427788     1.0  0.462435  0.001165   \n",
            "3785     -5.164221      0.835492     -0.427788     0.0  0.462435  0.001165   \n",
            "\n",
            "       cfx_sr    tet_sr   pen_sr  \n",
            "0     0.00147  0.554348  0.34744  \n",
            "1     0.00147  0.554348  0.34744  \n",
            "2     0.00147  0.554348  0.34744  \n",
            "3     0.00147  0.554348  0.34744  \n",
            "4     0.00147  0.554348  0.34744  \n",
            "...       ...       ...      ...  \n",
            "3781  0.00147  0.554348  0.34744  \n",
            "3782  0.00147  0.554348  0.34744  \n",
            "3783  0.00147  0.554348  0.34744  \n",
            "3784  0.00147  0.554348  0.34744  \n",
            "3785  0.00147  0.554348  0.34744  \n",
            "\n",
            "[3786 rows x 31 columns]\n",
            "         Sample_ID    Year  Country  Continent  Beta.lactamase  Azithromycin  \\\n",
            "0     14138.043478  2015.0      NaN        NaN        0.102439        256.00   \n",
            "1     14138.043478  2015.0      NaN        NaN        0.102439        256.00   \n",
            "2     14138.043478  2015.0      NaN        NaN        0.102439        256.00   \n",
            "3     14138.043478  2015.0      NaN        NaN        0.102439        256.00   \n",
            "4     14138.043478  2015.0      NaN        NaN        0.102439        256.00   \n",
            "...            ...     ...      ...        ...             ...           ...   \n",
            "3781  14138.043478  2016.0      NaN        NaN        0.102439        256.00   \n",
            "3782  14138.043478  2016.0      NaN        NaN        0.102439        256.00   \n",
            "3783  14138.043478  2016.0      NaN        NaN        0.102439        256.00   \n",
            "3784  14138.043478  2015.0      NaN        NaN        0.102439        256.00   \n",
            "3785  14138.043478  2014.0      NaN        NaN        0.102439          0.19   \n",
            "\n",
            "      Ciprofloxacin  Ceftriaxone  Cefixime  Tetracycline  ...  log2_cro_mic  \\\n",
            "0              16.0        0.016     0.016           2.0  ...     -5.965784   \n",
            "1              16.0        0.004     0.016           2.0  ...     -7.965784   \n",
            "2              16.0        0.006     0.016           2.0  ...     -7.380822   \n",
            "3              16.0        0.006     0.016           2.0  ...     -7.380822   \n",
            "4              16.0        0.008     0.016           2.0  ...     -6.965784   \n",
            "...             ...          ...       ...           ...  ...           ...   \n",
            "3781           16.0        0.008     0.016           2.0  ...     -6.203940   \n",
            "3782           16.0        0.008     0.016           2.0  ...     -6.203940   \n",
            "3783           16.0        0.008     0.016           2.0  ...     -6.203940   \n",
            "3784           16.0        0.008     0.016           2.0  ...     -6.203940   \n",
            "3785           16.0        0.008     0.016           2.0  ...     -6.203940   \n",
            "\n",
            "      log2_cfx_mic  log2_tet_mic  log2_pen_mic  azm_sr    cip_sr    cro_sr  \\\n",
            "0        -5.164221      0.835492     -0.427788     1.0  0.462435  0.000000   \n",
            "1        -5.164221      0.835492     -0.427788     1.0  0.462435  0.000000   \n",
            "2        -5.164221      0.835492     -0.427788     1.0  0.462435  0.000000   \n",
            "3        -5.164221      0.835492     -0.427788     1.0  0.462435  0.000000   \n",
            "4        -5.164221      0.835492     -0.427788     1.0  0.462435  0.000000   \n",
            "...            ...           ...           ...     ...       ...       ...   \n",
            "3781     -5.164221      0.835492     -0.427788     1.0  0.462435  0.001165   \n",
            "3782     -5.164221      0.835492     -0.427788     1.0  0.462435  0.001165   \n",
            "3783     -5.164221      0.835492     -0.427788     1.0  0.462435  0.001165   \n",
            "3784     -5.164221      0.835492     -0.427788     1.0  0.462435  0.001165   \n",
            "3785     -5.164221      0.835492     -0.427788     0.0  0.462435  0.001165   \n",
            "\n",
            "       cfx_sr    tet_sr   pen_sr  \n",
            "0     0.00147  0.554348  0.34744  \n",
            "1     0.00147  0.554348  0.34744  \n",
            "2     0.00147  0.554348  0.34744  \n",
            "3     0.00147  0.554348  0.34744  \n",
            "4     0.00147  0.554348  0.34744  \n",
            "...       ...       ...      ...  \n",
            "3781  0.00147  0.554348  0.34744  \n",
            "3782  0.00147  0.554348  0.34744  \n",
            "3783  0.00147  0.554348  0.34744  \n",
            "3784  0.00147  0.554348  0.34744  \n",
            "3785  0.00147  0.554348  0.34744  \n",
            "\n",
            "[3786 rows x 31 columns]\n"
          ]
        }
      ]
    },
    {
      "cell_type": "code",
      "source": [
        "from sklearn.model_selection import train_test_split\n",
        "\n",
        "# Step 4: Feature Selection and Target Variable\n",
        "# Select features (X) and target variable (y)\n",
        "X = dataset.drop(['Sample_ID', 'Year', 'Country', 'Continent', 'Beta.lactamase'], axis=1)  # Exclude non-relevant columns\n",
        "y = dataset['azm_sr']  # Target: azm_sr (Azithromycin resistance)\n",
        "\n",
        "# Split the data into training and test sets (80% train, 20% test)\n",
        "X_train, X_test, y_train, y_test = train_test_split(X, y, test_size=0.2, random_state=42)\n",
        "\n",
        "# Check the shape of the training and test data\n",
        "print(\"\\nTraining Data Shape:\", X_train.shape)\n",
        "print(\"Test Data Shape:\", X_test.shape)\n"
      ],
      "metadata": {
        "colab": {
          "base_uri": "https://localhost:8080/"
        },
        "id": "ZsPxXt6bzrNW",
        "outputId": "e325cbe4-615b-4c4a-dcd2-5cfc6741d180"
      },
      "execution_count": null,
      "outputs": [
        {
          "output_type": "stream",
          "name": "stdout",
          "text": [
            "\n",
            "Training Data Shape: (3028, 26)\n",
            "Test Data Shape: (758, 26)\n"
          ]
        }
      ]
    },
    {
      "cell_type": "code",
      "source": [
        "from sklearn.preprocessing import StandardScaler\n",
        "\n",
        "# Step 5: Standardize the features\n",
        "scaler = StandardScaler()\n",
        "X_train_scaled = scaler.fit_transform(X_train)\n",
        "X_test_scaled = scaler.transform(X_test)\n",
        "\n",
        "# Verify the scaling\n",
        "print(\"\\nScaled Training Data:\", X_train_scaled[:5])\n"
      ],
      "metadata": {
        "colab": {
          "base_uri": "https://localhost:8080/"
        },
        "id": "d--KkeqH0aXD",
        "outputId": "6cdf41b1-7b07-41d8-dc1a-264354b9f3ee"
      },
      "execution_count": null,
      "outputs": [
        {
          "output_type": "stream",
          "name": "stdout",
          "text": [
            "\n",
            "Scaled Training Data: [[-0.19494702 -0.84821656 -0.34573467 -0.37843193 -0.29783547 -0.17437506\n",
            "   1.69202997  1.90348237 -0.19784514 -0.7229322  -0.37811146 -0.30696925\n",
            "  -0.51369353 -0.27021067 -0.72767733 -1.20132619 -1.04424184 -1.14778466\n",
            "  -2.65032427 -1.13154578 -0.39575148 -1.0196624  -0.02994675 -0.03627778\n",
            "  -1.78224947 -1.1721126 ]\n",
            " [-0.19200092 -0.45983646 -0.28561287 -0.37843193  2.04665914  2.1139947\n",
            "  -0.0032673  -1.19320456 -0.19636498 -0.33275619 -0.31773686 -0.30696925\n",
            "   1.69291086  1.21007993 -0.3282213   0.82131868 -0.44835482 -1.14778466\n",
            "   2.8246547   3.15751854 -0.39575148  1.19322563 -0.02994675 -0.03627778\n",
            "   1.43879587  2.20320951]\n",
            " [-0.18633534 -0.84821656 -0.28561287 -0.37843193 -0.23311919 -0.13805173\n",
            "  -0.0032673  -1.19320456 -0.19351853 -0.7229322  -0.31773686 -0.30696925\n",
            "  -0.45278349 -0.24671399  0.04901773 -1.20132619 -0.44835482 -1.14778466\n",
            "  -0.57220049 -0.41670173 -0.39575148 -1.0196624  -0.02994675 -0.03627778\n",
            "  -1.78224947 -1.1721126 ]\n",
            " [-0.19630676 -0.84821656 -0.34573467 -0.37843193  0.86999936 -0.17437506\n",
            "  -0.0032673  -1.19320456 -0.19852829 -0.7229322  -0.37811146 -0.30696925\n",
            "   0.58545571 -0.27021067 -1.10491636 -1.20132619 -1.04424184 -1.14778466\n",
            "   2.14528366 -1.13154578 -0.39575148 -1.0196624  -0.02994675 -0.03627778\n",
            "   1.43879587 -1.1721126 ]\n",
            " [-0.19200092 -0.45983646  0.54106192  0.52651229 -0.15957795 -0.06540507\n",
            "   0.45024656  0.55923175 -0.19636498 -0.33275619  0.5124139   0.34483026\n",
            "  -0.38356755 -0.19972064 -0.3282213   0.82131868  1.32576763  1.37924241\n",
            "   0.10717055  0.29814232 -0.39575148  1.19322563 -0.02994675 -0.03627778\n",
            "   1.43879587 -1.1721126 ]]\n"
          ]
        }
      ]
    },
    {
      "cell_type": "code",
      "source": [
        "from sklearn.ensemble import RandomForestRegressor\n",
        "from sklearn.metrics import mean_squared_error, r2_score\n",
        "\n",
        "# Step 6: Model Building - Random Forest Regressor (for continuous target variable)\n",
        "rf_regressor = RandomForestRegressor(n_estimators=100, random_state=42)\n",
        "\n",
        "# Train the model\n",
        "rf_regressor.fit(X_train_scaled, y_train)\n",
        "\n",
        "# Model evaluation\n",
        "y_pred = rf_regressor.predict(X_test_scaled)\n",
        "\n",
        "# Calculate R^2 and MSE\n",
        "r2 = r2_score(y_test, y_pred)\n",
        "mse = mean_squared_error(y_test, y_pred)\n",
        "\n",
        "# Output evaluation metrics\n",
        "print(f\"\\nR^2 Score: {r2:.4f}\")\n",
        "print(f\"Mean Squared Error: {mse:.4f}\")\n"
      ],
      "metadata": {
        "colab": {
          "base_uri": "https://localhost:8080/"
        },
        "id": "cPTaTcM40dSo",
        "outputId": "b6704bb5-86f1-41c6-86b6-30005727ae6b"
      },
      "execution_count": null,
      "outputs": [
        {
          "output_type": "stream",
          "name": "stdout",
          "text": [
            "\n",
            "R^2 Score: 1.0000\n",
            "Mean Squared Error: 0.0000\n"
          ]
        }
      ]
    },
    {
      "cell_type": "code",
      "source": [
        "from sklearn.model_selection import cross_val_score\n",
        "from sklearn.ensemble import RandomForestRegressor\n",
        "\n",
        "# Step 7: Cross-Validation (Optional) - Using RandomForestRegressor for regression tasks\n",
        "rf_regressor = RandomForestRegressor(n_estimators=100, random_state=42)\n",
        "\n",
        "# Perform cross-validation with regression (scoring 'neg_mean_squared_error' for regression)\n",
        "cv_scores = cross_val_score(rf_regressor, X, y, cv=5, scoring='neg_mean_squared_error')\n",
        "\n",
        "# Output cross-validation scores\n",
        "print(f\"\\nCross-Validation Scores (Negative MSE): {cv_scores}\")\n",
        "print(f\"Average Cross-Validation Score (Negative MSE): {cv_scores.mean():.4f}\")\n"
      ],
      "metadata": {
        "colab": {
          "base_uri": "https://localhost:8080/"
        },
        "id": "WAIUqCYQ007s",
        "outputId": "1f509840-e34c-418d-971f-7b0e171004e5"
      },
      "execution_count": null,
      "outputs": [
        {
          "output_type": "stream",
          "name": "stdout",
          "text": [
            "\n",
            "Cross-Validation Scores (Negative MSE): [-2.60534921e-04 -6.08359800e-33 -0.00000000e+00 -0.00000000e+00\n",
            " -0.00000000e+00]\n",
            "Average Cross-Validation Score (Negative MSE): -0.0001\n"
          ]
        }
      ]
    },
    {
      "cell_type": "code",
      "source": [
        "from sklearn.ensemble import RandomForestRegressor\n",
        "\n",
        "# Step 1: Use RandomForestRegressor for continuous targets (regression)\n",
        "rf_regressor = RandomForestRegressor(n_estimators=100, random_state=42)\n",
        "\n",
        "# Fit the model with the training data\n",
        "rf_regressor.fit(X_train_scaled, y_train)\n",
        "\n",
        "# Step 2: Access feature importances after fitting\n",
        "feature_importances = rf_regressor.feature_importances_\n",
        "\n",
        "# Get the feature names\n",
        "features = X.columns\n",
        "\n",
        "# Sort feature importances in descending order\n",
        "sorted_idx = np.argsort(feature_importances)[::-1]\n",
        "\n",
        "# Step 3: Plot the feature importances\n",
        "plt.figure(figsize=(10, 6))\n",
        "plt.barh(features[sorted_idx], feature_importances[sorted_idx])\n",
        "plt.title('Feature Importance')\n",
        "plt.xlabel('Importance')\n",
        "plt.ylabel('Feature')\n",
        "plt.show()\n"
      ],
      "metadata": {
        "colab": {
          "base_uri": "https://localhost:8080/",
          "height": 564
        },
        "id": "X31iRors1KBD",
        "outputId": "358d6354-de60-413b-f3e9-5313fd043ad9"
      },
      "execution_count": null,
      "outputs": [
        {
          "output_type": "display_data",
          "data": {
            "text/plain": [
              "<Figure size 1000x600 with 1 Axes>"
            ],
            "image/png": "[encoded data removed]"
          },
          "metadata": {}
        }
      ]
    }
  ]
}